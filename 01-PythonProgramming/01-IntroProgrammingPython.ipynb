{
 "cells": [
  {
   "cell_type": "markdown",
   "metadata": {},
   "source": [
    "Before you turn this problem in, make sure everything runs as expected. First, **restart the kernel** (in the menubar, select Kernel$\\rightarrow$Restart) and then **run all cells** (in the menubar, select Cell$\\rightarrow$Run All).\n",
    "\n",
    "Make sure you fill in any place that says `YOUR CODE HERE` or \"YOUR ANSWER HERE\", as well as your name and collaborators below:"
   ]
  },
  {
   "cell_type": "code",
   "execution_count": null,
   "metadata": {},
   "outputs": [],
   "source": [
    "NAME = \"\"\n",
    "COLLABORATORS = \"\""
   ]
  },
  {
   "cell_type": "markdown",
   "metadata": {},
   "source": [
    "---"
   ]
  },
  {
   "cell_type": "markdown",
   "metadata": {
    "slideshow": {
     "slide_type": "slide"
    }
   },
   "source": [
    "# Python Programming (very fast) Introduction\n",
    "\n",
    "## Importing modules\n",
    "Python has an extensive standard library (https://docs.python.org/3/library/) to perform several task in optimized and easy-to-use way. For basic mathematical operations you can just use the normal operators, but for other standard functions, like `sin`, you could import the standard `math` module, or , much better, use either `numpy` or `scipy` modules\n",
    "```python\n",
    "import math as m # imports the math module with an alias m\n",
    "# import math # imports math module but you need to use math.sin or math.cos\n",
    "# from math import * # DO NOT do this: exposes all inners from math\n",
    "\n",
    "x = 5.2\n",
    "y = m.sin(x)\n",
    "print(x, y)\n",
    "```\n",
    "\n",
    "<div class=\"alert alert-block alert-info\">\n",
    "<b>Exercise:</b> Copy and execute the previous code in the following cell (use shift+enter to execute) \n",
    "</div>"
   ]
  },
  {
   "cell_type": "code",
   "execution_count": null,
   "metadata": {
    "deletable": false,
    "nbgrader": {
     "cell_type": "code",
     "checksum": "013f937e702eceac3ba76eed805f13eb",
     "grade": false,
     "grade_id": "cell-1d206d3930590507",
     "locked": false,
     "schema_version": 3,
     "solution": true,
     "task": false
    },
    "slideshow": {
     "slide_type": "fragment"
    }
   },
   "outputs": [],
   "source": [
    "# YOUR CODE HERE\n",
    "raise NotImplementedError()"
   ]
  },
  {
   "cell_type": "markdown",
   "metadata": {
    "slideshow": {
     "slide_type": "slide"
    }
   },
   "source": [
    "<div class=\"alert alert-block alert-info\">\n",
    "<b>Exercise:</b> Now replace math by numpy and execute it. Is there any difference?\n",
    "</div>"
   ]
  },
  {
   "cell_type": "code",
   "execution_count": null,
   "metadata": {
    "deletable": false,
    "nbgrader": {
     "cell_type": "code",
     "checksum": "9da8f546de4900093f1745c47b9f3c1b",
     "grade": false,
     "grade_id": "cell-d2ac73e7587d20db",
     "locked": false,
     "schema_version": 3,
     "solution": true,
     "task": false
    }
   },
   "outputs": [],
   "source": [
    "# YOUR CODE HERE\n",
    "raise NotImplementedError()"
   ]
  },
  {
   "cell_type": "markdown",
   "metadata": {
    "slideshow": {
     "slide_type": "slide"
    }
   },
   "source": [
    "## Looking for help\n",
    "What are the units of the argument for the `sin` function? Are there any other functions provided by the `numpy` module? Check the documentation using either google or, inside a notebook\n",
    "```\n",
    "help(np.sin)\n",
    "help(np)\n",
    "np.sin?\n",
    "```"
   ]
  },
  {
   "cell_type": "code",
   "execution_count": null,
   "metadata": {
    "slideshow": {
     "slide_type": "fragment"
    }
   },
   "outputs": [],
   "source": [
    "help(np)"
   ]
  },
  {
   "cell_type": "markdown",
   "metadata": {
    "slideshow": {
     "slide_type": "slide"
    }
   },
   "source": [
    "## Printing and reading to and from the screen\n",
    "\n",
    "You have already seen how to print to the screen. To read, you can use the function call ```input```. Try it:"
   ]
  },
  {
   "cell_type": "code",
   "execution_count": null,
   "metadata": {
    "slideshow": {
     "slide_type": "subslide"
    }
   },
   "outputs": [],
   "source": [
    "var = input(\"Please write something :\\t\")\n",
    "print(\"You have written : \" + var)\n",
    "print(f\"You have written : {var}\") # uses a f-string: https://realpython.com/python-f-strings/"
   ]
  },
  {
   "cell_type": "markdown",
   "metadata": {
    "slideshow": {
     "slide_type": "slide"
    }
   },
   "source": [
    "You can also format the printing string, like you have done in c/c++ . For example, you can write something like"
   ]
  },
  {
   "cell_type": "code",
   "execution_count": null,
   "metadata": {
    "slideshow": {
     "slide_type": "fragment"
    }
   },
   "outputs": [],
   "source": [
    "x = 5\n",
    "y = 2.34\n",
    "print(\"x = %04d \\t y = %.1f \\n y=%20.16e\\n\"%(x, y, y))\n",
    "print(f\"x = {x:04d} \\t y = {y:.1f} \\n y={y:20.16e}\")"
   ]
  },
  {
   "cell_type": "markdown",
   "metadata": {
    "slideshow": {
     "slide_type": "skip"
    }
   },
   "source": [
    "Note: if you need to manipulate strings and numbers, you should cast the number to string by using ```str```, as in ```str(x)``` ."
   ]
  },
  {
   "cell_type": "markdown",
   "metadata": {},
   "source": [
    "<div class=\"alert alert-block alert-info\">\n",
    "<b>Exercise:</b> Print the sum of two numbers with 5 decimals, filled with 0, and in field of 10 spaces \n",
    "</div>"
   ]
  },
  {
   "cell_type": "code",
   "execution_count": null,
   "metadata": {
    "deletable": false,
    "nbgrader": {
     "cell_type": "code",
     "checksum": "466c25d15691e643883b9259e27f0a3c",
     "grade": false,
     "grade_id": "squares",
     "locked": false,
     "schema_version": 3,
     "solution": true
    },
    "tags": []
   },
   "outputs": [],
   "source": [
    "x = 32.6\n",
    "y = -4.7\n",
    "# YOUR CODE HERE\n",
    "raise NotImplementedError()"
   ]
  },
  {
   "cell_type": "markdown",
   "metadata": {
    "slideshow": {
     "slide_type": "slide"
    }
   },
   "source": [
    "## Selection structures : `if`, `if else`\n",
    "\n",
    "This is a simple example on how to use if to select from several options"
   ]
  },
  {
   "cell_type": "code",
   "execution_count": null,
   "metadata": {
    "slideshow": {
     "slide_type": "fragment"
    }
   },
   "outputs": [],
   "source": [
    "m = 5\n",
    "if m < 1:\n",
    "    print (f\"{m} is smaller than 1\")\n",
    "elif 1 <= m <= 4:\n",
    "    print (f\"{m} is in between 1 and 4\")\n",
    "else :\n",
    "    print (f\"{m} is larger than 4\")"
   ]
  },
  {
   "cell_type": "markdown",
   "metadata": {
    "slideshow": {
     "slide_type": "subslide"
    }
   },
   "source": [
    "You can also compare values directly, or even compare several values"
   ]
  },
  {
   "cell_type": "code",
   "execution_count": null,
   "metadata": {
    "ExecuteTime": {
     "end_time": "2018-09-13T19:07:18.645052Z",
     "start_time": "2018-09-13T19:07:18.625357Z"
    },
    "slideshow": {
     "slide_type": "fragment"
    }
   },
   "outputs": [],
   "source": [
    "print(2 == 3)\n",
    "print(2 == 2 and 3 > 9)\n",
    "print([2, 3] == [3, 2])\n",
    "print([2, 3] == [2, 2])\n",
    "print([2, 3] == [2, 3])"
   ]
  },
  {
   "cell_type": "markdown",
   "metadata": {},
   "source": [
    "<div class=\"alert alert-block alert-info\">\n",
    "<b>Exercise:</b> Read a number and indicate if the number is even or odd \n",
    "</div>"
   ]
  },
  {
   "cell_type": "code",
   "execution_count": null,
   "metadata": {
    "deletable": false,
    "nbgrader": {
     "cell_type": "code",
     "checksum": "a5ec35ebd41df13616479519c30fb84e",
     "grade": false,
     "grade_id": "cell-8ccf3fbf15c165e4",
     "locked": false,
     "schema_version": 3,
     "solution": true,
     "task": false
    }
   },
   "outputs": [],
   "source": [
    "# YOUR CODE HERE\n",
    "raise NotImplementedError()"
   ]
  },
  {
   "cell_type": "markdown",
   "metadata": {
    "slideshow": {
     "slide_type": "slide"
    }
   },
   "source": [
    "## Loop structures: for and while"
   ]
  },
  {
   "cell_type": "code",
   "execution_count": null,
   "metadata": {
    "slideshow": {
     "slide_type": "fragment"
    }
   },
   "outputs": [],
   "source": [
    "N = 5\n",
    "i = 0\n",
    "while i < N:\n",
    "    print (i, end=\" \")\n",
    "    i = i+1"
   ]
  },
  {
   "cell_type": "code",
   "execution_count": null,
   "metadata": {},
   "outputs": [],
   "source": [
    "for ii in range(1, 10):\n",
    "    print(f\"{ii}\", end=\" \")"
   ]
  },
  {
   "cell_type": "code",
   "execution_count": null,
   "metadata": {
    "slideshow": {
     "slide_type": "fragment"
    }
   },
   "outputs": [],
   "source": [
    "name = \"My name\" # a string is an array for characters\n",
    "for c in name:\n",
    "    print (c, end=\"-\")\n",
    "print()\n",
    "print(name[0])\n",
    "print(name[-1])"
   ]
  },
  {
   "cell_type": "markdown",
   "metadata": {},
   "source": [
    "<div class=\"alert alert-block alert-info\">\n",
    "<b>Exercise:</b> Print values from 0.0, to 1.0 (exclusive), in steps of 0.05 \n",
    "</div>"
   ]
  },
  {
   "cell_type": "code",
   "execution_count": null,
   "metadata": {
    "deletable": false,
    "nbgrader": {
     "cell_type": "code",
     "checksum": "3a81dc7c34d9e4c7b7882e47d39744bc",
     "grade": false,
     "grade_id": "cell-a83db8b3e865fef8",
     "locked": false,
     "schema_version": 3,
     "solution": true,
     "task": false
    }
   },
   "outputs": [],
   "source": [
    "# ii = 0.0\n",
    "# while ii < 1.0:\n",
    "#     print(ii)\n",
    "#     ii = ii + 0.05\n",
    "# YOUR CODE HERE\n",
    "raise NotImplementedError()"
   ]
  },
  {
   "cell_type": "markdown",
   "metadata": {},
   "source": [
    "<div class=\"alert alert-block alert-info\">\n",
    "<b>Exercise:</b> Now use numpy to do the same (check for the linspace function) \n",
    "</div>"
   ]
  },
  {
   "cell_type": "code",
   "execution_count": null,
   "metadata": {
    "deletable": false,
    "nbgrader": {
     "cell_type": "code",
     "checksum": "736337b68b68d7d3c52bc14f5b4adb5d",
     "grade": false,
     "grade_id": "cell-4d62b200c665b8ab",
     "locked": false,
     "schema_version": 3,
     "solution": true,
     "task": false
    }
   },
   "outputs": [],
   "source": [
    "# YOUR CODE HERE\n",
    "raise NotImplementedError()"
   ]
  },
  {
   "cell_type": "markdown",
   "metadata": {
    "slideshow": {
     "slide_type": "slide"
    }
   },
   "source": [
    "## How to declare functions\n",
    "Functions are the next construct necessary for the a good program design. A function should be defined by using the keyword ```def``` ."
   ]
  },
  {
   "cell_type": "code",
   "execution_count": null,
   "metadata": {
    "slideshow": {
     "slide_type": "fragment"
    }
   },
   "outputs": [],
   "source": [
    "def my_function() : \n",
    "    print (\"I am the function\")\n",
    "    \n",
    "my_function() # this calls the function    \n"
   ]
  },
  {
   "cell_type": "code",
   "execution_count": null,
   "metadata": {
    "slideshow": {
     "slide_type": "subslide"
    }
   },
   "outputs": [],
   "source": [
    "# this shows how to pass arguments\n",
    "def my_function(x):\n",
    "    print (f\"Value of argument is {x}\")\n",
    "    \n",
    "#my_function() # error, requires argument\n",
    "my_function(-3)\n",
    "my_function(0.9)\n"
   ]
  },
  {
   "cell_type": "code",
   "execution_count": null,
   "metadata": {
    "slideshow": {
     "slide_type": "subslide"
    }
   },
   "outputs": [],
   "source": [
    "# this shows how to pass arguments, and assign default values\n",
    "def my_function(x = 0):\n",
    "    print (f\"Value of argument is {x}\")\n",
    "    \n",
    "my_function() # no longer an error\n",
    "my_function(-3)"
   ]
  },
  {
   "cell_type": "code",
   "execution_count": null,
   "metadata": {
    "slideshow": {
     "slide_type": "subslide"
    }
   },
   "outputs": [],
   "source": [
    "# this shows how to pass arguments, assign default values, and also calls by named arguments\n",
    "def my_function(x = 0, y = 1):\n",
    "    print (\"Calling my_function\")\n",
    "    print (\"x \" + str(x))\n",
    "    print (\"y \" + str(y))\n",
    "    \n",
    "my_function() # no longer an error\n",
    "my_function(-3, 2) # x = -3, y = -2\n",
    "my_function(y=-3, x=2) # x = 2, y = -3"
   ]
  },
  {
   "cell_type": "markdown",
   "metadata": {},
   "source": [
    "### Exercises"
   ]
  },
  {
   "cell_type": "markdown",
   "metadata": {},
   "source": [
    "1. Write a function that receives a temperature in F and prints it in C "
   ]
  },
  {
   "cell_type": "code",
   "execution_count": null,
   "metadata": {
    "deletable": false,
    "nbgrader": {
     "cell_type": "code",
     "checksum": "102dd30e077fdbba266c1887ec95ad50",
     "grade": false,
     "grade_id": "cell-6d72db8e857ab57e",
     "locked": false,
     "schema_version": 3,
     "solution": true,
     "task": false
    }
   },
   "outputs": [],
   "source": [
    "def FtoC(f):\n",
    "# YOUR CODE HERE\n",
    "raise NotImplementedError()"
   ]
  },
  {
   "cell_type": "code",
   "execution_count": null,
   "metadata": {
    "deletable": false,
    "editable": false,
    "nbgrader": {
     "cell_type": "code",
     "checksum": "fd61d85dd6d9dfdfa3e85424fd2816a3",
     "grade": true,
     "grade_id": "cell-0764b89cea883781",
     "locked": true,
     "points": 0,
     "schema_version": 3,
     "solution": false,
     "task": false
    }
   },
   "outputs": [],
   "source": [
    "assert FtoC(0) == \"The temperature 0 F is equivalent to -17.78 C\"\n",
    "assert FtoC(10.3) == \"The temperature 10.3 F is equivalent to -12.06 C\"\n",
    "### BEGIN HIDDEN TEST\n",
    "assert FtoC(-10.3) == \"The temperature -10.3 F is equivalent to -23.50 C\"\n",
    "### END HIDDEN TEST"
   ]
  },
  {
   "cell_type": "markdown",
   "metadata": {},
   "source": [
    "2. The coordinates for the vertexes of a given triangle are written into a file in the form  \\begin{align*}x_1\\ \\ \\  y_1\\\\x_2\\ \\ \\  y_2\\\\x_3\\ \\ \\ y_3  \\end{align*} Write a program that reads this values, and computes the area of the triangle, defined as $$ A = \\frac{1}{2}[x_2y_3 - x_3y_2 - x_1y_3 + x_3y_1 + x_1y_2 - x_2y_1]$$. Use functions."
   ]
  },
  {
   "cell_type": "code",
   "execution_count": null,
   "metadata": {},
   "outputs": [],
   "source": []
  }
 ],
 "metadata": {
  "kernelspec": {
   "display_name": "Python 3 (ipykernel)",
   "language": "python",
   "name": "python3"
  },
  "language_info": {
   "codemirror_mode": {
    "name": "ipython",
    "version": 3
   },
   "file_extension": ".py",
   "mimetype": "text/x-python",
   "name": "python",
   "nbconvert_exporter": "python",
   "pygments_lexer": "ipython3",
   "version": "3.9.13"
  },
  "latex_envs": {
   "LaTeX_envs_menu_present": true,
   "autoclose": true,
   "autocomplete": true,
   "bibliofile": "biblio.bib",
   "cite_by": "apalike",
   "current_citInitial": 1,
   "eqLabelWithNumbers": true,
   "eqNumInitial": 1,
   "hotkeys": {
    "equation": "Ctrl-E",
    "itemize": "Ctrl-I"
   },
   "labels_anchors": false,
   "latex_user_defs": false,
   "report_style_numbering": false,
   "user_envs_cfg": false
  },
  "toc": {
   "base_numbering": 1,
   "nav_menu": {},
   "number_sections": true,
   "sideBar": true,
   "skip_h1_title": false,
   "title_cell": "Table of Contents",
   "title_sidebar": "Contents",
   "toc_cell": false,
   "toc_position": {},
   "toc_section_display": true,
   "toc_window_display": true
  }
 },
 "nbformat": 4,
 "nbformat_minor": 4
}
