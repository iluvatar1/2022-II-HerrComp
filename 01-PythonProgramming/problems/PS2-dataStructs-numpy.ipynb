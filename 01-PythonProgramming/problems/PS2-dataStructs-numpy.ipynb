{
 "cells": [
  {
   "cell_type": "markdown",
   "id": "b1cde2f7",
   "metadata": {},
   "source": [
    "Before you turn this problem in, make sure everything runs as expected. First, **restart the kernel** (in the menubar, select Kernel$\\rightarrow$Restart) and then **run all cells** (in the menubar, select Cell$\\rightarrow$Run All).\n",
    "\n",
    "Make sure you fill in any place that says `YOUR CODE HERE` or \"YOUR ANSWER HERE\", as well as your name and collaborators below:"
   ]
  },
  {
   "cell_type": "code",
   "execution_count": null,
   "id": "41ad410f",
   "metadata": {},
   "outputs": [],
   "source": [
    "NAME = \"\"\n",
    "COLLABORATORS = \"\""
   ]
  },
  {
   "cell_type": "markdown",
   "id": "726270ff",
   "metadata": {},
   "source": [
    "---"
   ]
  },
  {
   "cell_type": "markdown",
   "id": "d88bef21",
   "metadata": {
    "deletable": false,
    "editable": false,
    "nbgrader": {
     "cell_type": "markdown",
     "checksum": "0f106f664e2a7e66f7efbfdf34d267d2",
     "grade": false,
     "grade_id": "cell-845a68dfa02e5275",
     "locked": true,
     "schema_version": 3,
     "solution": false,
     "task": false
    }
   },
   "source": [
    "# Exercise\n",
    "Write a function that receives a list and returns it in reverse order every 2 elements, starting from the last-1 element"
   ]
  },
  {
   "cell_type": "code",
   "execution_count": null,
   "id": "4bf44218",
   "metadata": {
    "deletable": false,
    "nbgrader": {
     "cell_type": "code",
     "checksum": "807db4383f6f253a6dabfdd3f02fe04d",
     "grade": false,
     "grade_id": "cell-edb80791f1172d9c",
     "locked": false,
     "schema_version": 3,
     "solution": true,
     "task": false
    }
   },
   "outputs": [],
   "source": [
    "def getreversed(l):\n",
    "    # YOUR CODE HERE\n",
    "    raise NotImplementedError()"
   ]
  },
  {
   "cell_type": "code",
   "execution_count": null,
   "id": "bd80fcf2",
   "metadata": {
    "deletable": false,
    "editable": false,
    "nbgrader": {
     "cell_type": "code",
     "checksum": "8f9c73994db28baaab1a80da96d960e8",
     "grade": true,
     "grade_id": "cell-f39f060e7f0f3cd5",
     "locked": true,
     "points": 0.2,
     "schema_version": 3,
     "solution": false,
     "task": false
    }
   },
   "outputs": [],
   "source": [
    "assert [2] == getreversed([1, 2, 3])\n",
    "assert ['hola', 3, 1] == getreversed([1, 2, 3, 4 , \"hola\", \"mundo\"])\n",
    "assert [3] == getreversed(getreversed([1, 2, 3, 4 , \"hola\", \"mundo\"]))"
   ]
  },
  {
   "cell_type": "markdown",
   "id": "f98e9512",
   "metadata": {
    "deletable": false,
    "editable": false,
    "nbgrader": {
     "cell_type": "markdown",
     "checksum": "17cdd346f3c31fab6d86a3e785138b4d",
     "grade": false,
     "grade_id": "cell-f33ff4967377f416",
     "locked": true,
     "schema_version": 3,
     "solution": false,
     "task": false
    }
   },
   "source": [
    "# Exercise\n",
    "Write a function that receives a positive integer and returns a list with all its prime factors\n"
   ]
  },
  {
   "cell_type": "code",
   "execution_count": null,
   "id": "688c232f",
   "metadata": {
    "deletable": false,
    "nbgrader": {
     "cell_type": "code",
     "checksum": "42c170ae1334a7a57b6f0552f03c0f24",
     "grade": false,
     "grade_id": "cell-985fbac2f9ea8a4b",
     "locked": false,
     "schema_version": 3,
     "solution": true,
     "task": false
    }
   },
   "outputs": [],
   "source": [
    "import numpy as np\n",
    "\n",
    "def primefactors(n):\n",
    "    # YOUR CODE HERE\n",
    "    raise NotImplementedError()\n",
    "    \n",
    "def isprime(n):\n",
    "    # YOUR CODE HERE\n",
    "    raise NotImplementedError()"
   ]
  },
  {
   "cell_type": "code",
   "execution_count": null,
   "id": "c11d5bac",
   "metadata": {
    "deletable": false,
    "editable": false,
    "nbgrader": {
     "cell_type": "code",
     "checksum": "76051a73ff9538fe52a9b8e22c956fb7",
     "grade": true,
     "grade_id": "cell-a83025d2402f6fd4",
     "locked": true,
     "points": 0.4,
     "schema_version": 3,
     "solution": false,
     "task": false
    }
   },
   "outputs": [],
   "source": [
    "assert [2] == primefactors(2)\n",
    "assert [2, 5] == primefactors(10)\n",
    "assert [2, 3] == primefactors(36)\n",
    "assert [37] == primefactors(37)\n",
    "assert [2, 19] == primefactors(38)\n",
    "assert [2, 3, 5] == primefactors(90)\n",
    "assert [10039] == primefactors(10039)\n",
    "assert [2, 5, 251] == primefactors(10040)\n",
    "assert [3, 3347] == primefactors(10041)\n",
    "assert [1213427] == primefactors(1213427)\n",
    "assert [2, 3, 101119] == primefactors(1213428)"
   ]
  },
  {
   "cell_type": "markdown",
   "id": "e4c5f75a",
   "metadata": {
    "deletable": false,
    "editable": false,
    "nbgrader": {
     "cell_type": "markdown",
     "checksum": "336fdd414650ef2776d2801d4bcd3bdc",
     "grade": false,
     "grade_id": "cell-061dc36ab50b963a",
     "locked": true,
     "schema_version": 3,
     "solution": false,
     "task": false
    }
   },
   "source": [
    "# Exercise\n",
    "Representing a polynomial by a dictionary : Consider the polynomial $p(x) = −1+x^2+3x^7$ . It can be represent by means of a dictionary as p = {0:-1, 2:1, 7:3} . Write a function which gets a dictionary representing a polynomial, an $x$ value, and returns the polynomial evaluated on that $x$ value. "
   ]
  },
  {
   "cell_type": "code",
   "execution_count": null,
   "id": "25c3701a",
   "metadata": {
    "deletable": false,
    "nbgrader": {
     "cell_type": "code",
     "checksum": "6b19c9508a1921834d8ebdc92b5185f6",
     "grade": false,
     "grade_id": "cell-c8e849d0bd27febe",
     "locked": false,
     "schema_version": 3,
     "solution": true,
     "task": false
    }
   },
   "outputs": [],
   "source": [
    "import numpy as np\n",
    "def polynomial(coeffs, x):\n",
    "    # YOUR CODE HERE\n",
    "    raise NotImplementedError()"
   ]
  },
  {
   "cell_type": "code",
   "execution_count": null,
   "id": "80362b82",
   "metadata": {
    "deletable": false,
    "editable": false,
    "nbgrader": {
     "cell_type": "code",
     "checksum": "1351e88abe4a7d885e941d0c52e8ce2e",
     "grade": true,
     "grade_id": "cell-fc4b987152ce277a",
     "locked": true,
     "points": 0.4,
     "schema_version": 3,
     "solution": false,
     "task": false
    }
   },
   "outputs": [],
   "source": [
    "assert np.isclose(-1.0, polynomial({0:-1}, 0.2))\n",
    "assert np.isclose(-1.0, polynomial({0:-1}, 0.57))\n",
    "assert np.isclose(-0.96, polynomial({0:-1, 2:1}, 0.2))\n",
    "assert np.isclose(-0.6751, polynomial({0:-1, 2:1}, 0.57))\n",
    "assert np.isclose(-0.9599616, polynomial({0:-1, 2:1, 7:3}, 0.2))\n",
    "assert np.isclose(-0.6164530752042101, polynomial({0:-1, 2:1, 7:3}, 0.57))\n",
    "assert np.isclose(11.54503606479579, polynomial({0:10.98, 2:1, 3:0.98, 7:3}, 0.57))\n"
   ]
  },
  {
   "cell_type": "markdown",
   "id": "ad34b7af",
   "metadata": {
    "deletable": false,
    "editable": false,
    "nbgrader": {
     "cell_type": "markdown",
     "checksum": "09b2bf45379b0a177efd99dc489cde9e",
     "grade": false,
     "grade_id": "cell-6c6aa16372718f59",
     "locked": true,
     "schema_version": 3,
     "solution": false,
     "task": false
    }
   },
   "source": [
    "# Exercise\n",
    "Create a function that receives a numpy array and returns the maximum across a given axis. Hint: Check the `axis` parameter in the `.max` function."
   ]
  },
  {
   "cell_type": "code",
   "execution_count": null,
   "id": "c41393bf",
   "metadata": {
    "deletable": false,
    "nbgrader": {
     "cell_type": "code",
     "checksum": "40c476fca361ce3dc2718d4be33a6976",
     "grade": false,
     "grade_id": "cell-5a0c7690be1be539",
     "locked": false,
     "schema_version": 3,
     "solution": true,
     "task": false
    }
   },
   "outputs": [],
   "source": [
    "import numpy as np\n",
    "def maximum(data, axis):\n",
    "    # YOUR CODE HERE\n",
    "    raise NotImplementedError()"
   ]
  },
  {
   "cell_type": "code",
   "execution_count": null,
   "id": "f055f095",
   "metadata": {
    "deletable": false,
    "editable": false,
    "nbgrader": {
     "cell_type": "code",
     "checksum": "67e4462f9ee83bca412a03a8036c84e3",
     "grade": true,
     "grade_id": "cell-a4b3899af90c32f9",
     "locked": true,
     "points": 0.2,
     "schema_version": 3,
     "solution": false,
     "task": false
    }
   },
   "outputs": [],
   "source": [
    "import numpy.random as random # do not change\n",
    "random.seed(10) # do not change\n",
    "\n",
    "array = np.array([1, 23.4, 3.0])\n",
    "assert np.isclose(23.4, maximum(array, 0))\n",
    "\n",
    "array = np.random.random((2, 3))\n",
    "assert np.allclose(np.array([0.77132064, 0.49850701, 0.63364823]), maximum(array, 0))\n",
    "assert np.allclose(np.array([0.77132064, 0.74880388]).reshape((1, 2)), maximum(array, 1))\n",
    "\n",
    "array = np.random.random((2, 3))\n",
    "assert np.allclose(np.array([0.19806286, 0.76053071, 0.95339335]), maximum(array, 0))\n",
    "assert np.allclose(np.array([0.76053071, 0.95339335]).reshape((1,2)), maximum(array, 1))"
   ]
  },
  {
   "cell_type": "markdown",
   "id": "03e6bebe",
   "metadata": {
    "deletable": false,
    "editable": false,
    "nbgrader": {
     "cell_type": "markdown",
     "checksum": "32df7b326c741fd4dccda9bd7c578332",
     "grade": false,
     "grade_id": "cell-621955b7ac115f0b",
     "locked": true,
     "schema_version": 3,
     "solution": false,
     "task": false
    }
   },
   "source": [
    "# Exercise\n",
    "Computing an integral using numpy: Write a function that receives the limits for an interval, $a$ and $b$, the number $n$ of intervals to use (which means $n+1$ points), and a function $f$, and returns the integral of that function over the interval using the simple trapezoidal rule\n",
    "\n",
    "$$I(a, b, n, f) \\simeq \\Delta x \\left( \\frac{1}{2}f(x_0) + \\frac{1}{2}f(x_n) + \\sum\\limits_{i=1}^{n-1}f(x_i) \\right), $$\n",
    "\n",
    "where $x_k = x_0 + k\\Delta x$, $x_0 = a$, $x_n = b$, and $\\Delta x = (b-a)/n$. Use `np.linspace`, `np.sum`, etc, and try to avoid using loops. \n"
   ]
  },
  {
   "cell_type": "code",
   "execution_count": null,
   "id": "5f4a7339",
   "metadata": {
    "deletable": false,
    "nbgrader": {
     "cell_type": "code",
     "checksum": "4f9eb906e3a60b249323c168214562de",
     "grade": false,
     "grade_id": "cell-194983d1b5284cb6",
     "locked": false,
     "schema_version": 3,
     "solution": true,
     "task": false
    }
   },
   "outputs": [],
   "source": [
    "def trapezoid(a, b, n, f):\n",
    "    # YOUR CODE HERE\n",
    "    raise NotImplementedError()"
   ]
  },
  {
   "cell_type": "code",
   "execution_count": null,
   "id": "6e2e4c71",
   "metadata": {
    "deletable": false,
    "editable": false,
    "nbgrader": {
     "cell_type": "code",
     "checksum": "a1c87ebeafb1e3990f2365421645badb",
     "grade": true,
     "grade_id": "cell-40001aa792fe1bb7",
     "locked": true,
     "points": 0.3,
     "schema_version": 3,
     "solution": false,
     "task": false
    }
   },
   "outputs": [],
   "source": [
    "assert np.isclose(0.7272870719562238, trapezoid(0.1, 1.3, 20, np.sin))\n",
    "assert np.isclose(0.7275053148282778, trapezoid(0.1, 1.3, 2000, np.sin))\n",
    "assert np.isclose(0.7275053366512558, trapezoid(0.1, 1.3, 200000, np.sin))\n",
    "assert np.isclose(0.8634656357913549, trapezoid(0.1, 1.3, 20, np.cos))\n",
    "assert np.isclose(0.8637247428586216, trapezoid(0.1, 1.3, 2000, np.cos))\n",
    "assert np.isclose(0.8637247687677736, trapezoid(0.1, 1.3, 200000, np.cos))"
   ]
  },
  {
   "cell_type": "code",
   "execution_count": null,
   "id": "f263a0e2",
   "metadata": {},
   "outputs": [],
   "source": []
  }
 ],
 "metadata": {
  "kernelspec": {
   "display_name": "Python 3 (ipykernel)",
   "language": "python",
   "name": "python3"
  },
  "language_info": {
   "codemirror_mode": {
    "name": "ipython",
    "version": 3
   },
   "file_extension": ".py",
   "mimetype": "text/x-python",
   "name": "python",
   "nbconvert_exporter": "python",
   "pygments_lexer": "ipython3",
   "version": "3.9.13"
  },
  "toc": {
   "base_numbering": 1,
   "nav_menu": {},
   "number_sections": true,
   "sideBar": true,
   "skip_h1_title": false,
   "title_cell": "Table of Contents",
   "title_sidebar": "Contents",
   "toc_cell": false,
   "toc_position": {},
   "toc_section_display": true,
   "toc_window_display": false
  }
 },
 "nbformat": 4,
 "nbformat_minor": 5
}
