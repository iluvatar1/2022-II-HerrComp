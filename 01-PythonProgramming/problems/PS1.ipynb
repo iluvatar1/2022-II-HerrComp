{
 "cells": [
  {
   "cell_type": "markdown",
   "id": "f7d4d7c6",
   "metadata": {},
   "source": [
    "Before you turn this problem in, make sure everything runs as expected. First, **restart the kernel** (in the menubar, select Kernel$\\rightarrow$Restart) and then **run all cells** (in the menubar, select Cell$\\rightarrow$Run All).\n",
    "\n",
    "Make sure you fill in any place that says `YOUR CODE HERE` or \"YOUR ANSWER HERE\", as well as your name and collaborators below:"
   ]
  },
  {
   "cell_type": "code",
   "execution_count": null,
   "id": "9c2f21a6",
   "metadata": {},
   "outputs": [],
   "source": [
    "NAME = \"\"\n",
    "COLLABORATORS = \"\""
   ]
  },
  {
   "cell_type": "markdown",
   "id": "39fe6275",
   "metadata": {},
   "source": [
    "---"
   ]
  },
  {
   "cell_type": "markdown",
   "id": "60429e08",
   "metadata": {
    "deletable": false,
    "editable": false,
    "nbgrader": {
     "cell_type": "markdown",
     "checksum": "86bdf8dd7c6875f0288f7618c90f11b7",
     "grade": false,
     "grade_id": "cell-a394941bc188b823",
     "locked": true,
     "schema_version": 3,
     "solution": false,
     "task": false
    }
   },
   "source": [
    "# Exercise\n",
    "Write a function which receives a positive integer number and prints the sum of all even numbers smaller than the parameter read. You can use `numpy`, but you can also use a simple loop."
   ]
  },
  {
   "cell_type": "code",
   "execution_count": null,
   "id": "df335763",
   "metadata": {
    "deletable": false,
    "nbgrader": {
     "cell_type": "code",
     "checksum": "1de848c004b5dfd9c67d0058b29fce95",
     "grade": false,
     "grade_id": "cell-48df8f2b83dee5a8",
     "locked": false,
     "schema_version": 3,
     "solution": true,
     "task": false
    }
   },
   "outputs": [],
   "source": [
    "import numpy as np\n",
    "def sum_smaller_even(n):\n",
    "    # YOUR CODE HERE\n",
    "    raise NotImplementedError()"
   ]
  },
  {
   "cell_type": "code",
   "execution_count": null,
   "id": "13230a28",
   "metadata": {
    "deletable": false,
    "editable": false,
    "nbgrader": {
     "cell_type": "code",
     "checksum": "bc641d7bce384ac6c4e1197a1697f010",
     "grade": true,
     "grade_id": "cell-4fe77a6d354d52e1",
     "locked": true,
     "points": 0.5,
     "schema_version": 3,
     "solution": false,
     "task": false
    }
   },
   "outputs": [],
   "source": [
    "assert 0 == sum_smaller_even(-10)\n",
    "assert 0 == sum_smaller_even(0)\n",
    "assert 0 == sum_smaller_even(2)\n",
    "assert 2 == sum_smaller_even(3)\n",
    "assert 2 == sum_smaller_even(4)\n",
    "assert 6 == sum_smaller_even(5)\n",
    "assert 6 == sum_smaller_even(6)\n",
    "assert 30 == sum_smaller_even(12)\n",
    "assert 42 == sum_smaller_even(13)\n",
    "assert 42 == sum_smaller_even(14)\n",
    "assert 2450 == sum_smaller_even(100)"
   ]
  },
  {
   "cell_type": "markdown",
   "id": "6e94e907",
   "metadata": {
    "deletable": false,
    "editable": false,
    "nbgrader": {
     "cell_type": "markdown",
     "checksum": "f3714ddc7f52a73c02f012554b9e21d9",
     "grade": false,
     "grade_id": "cell-6dfa84d5f44df538",
     "locked": true,
     "schema_version": 3,
     "solution": false,
     "task": false
    }
   },
   "source": [
    "# Exercise\n",
    "Write a function (called `sum1`) that computes the mathematical sum $$\\sum_{k=1}^M \\frac{1}{k},$$ as a function of $M$. Write another function (calle `diff`) that receives to parameters, `m` and `n`, and computes the relative difference between `sum1(m)` and `sum2(n)`. The relative difference between two numbers $a$ and $b$ is defined as $|\\frac{a-b}{a}|$ (assuming $|a| > 0$). You can use the `math abs` or `numpy abs` functions and so on. "
   ]
  },
  {
   "cell_type": "code",
   "execution_count": null,
   "id": "64170531",
   "metadata": {
    "deletable": false,
    "nbgrader": {
     "cell_type": "code",
     "checksum": "2439aed56e32ce9bce01842d8145ad01",
     "grade": false,
     "grade_id": "cell-2be48593e458a7b6",
     "locked": false,
     "schema_version": 3,
     "solution": true,
     "task": false
    }
   },
   "outputs": [],
   "source": [
    "import numpy as np\n",
    "def sum1(m):\n",
    "    # YOUR CODE HERE\n",
    "    raise NotImplementedError()\n",
    "\n",
    "def diff(m, n):\n",
    "    # YOUR CODE HERE\n",
    "    raise NotImplementedError()"
   ]
  },
  {
   "cell_type": "code",
   "execution_count": null,
   "id": "feef1bfa",
   "metadata": {
    "deletable": false,
    "editable": false,
    "nbgrader": {
     "cell_type": "code",
     "checksum": "550789c6a80c4902f9ae714f3aed226d",
     "grade": true,
     "grade_id": "cell-f2cab27fa5a5cef0",
     "locked": true,
     "points": 0.5,
     "schema_version": 3,
     "solution": false,
     "task": false
    }
   },
   "outputs": [],
   "source": [
    "assert np.isclose(0.0, sum1(0))\n",
    "assert np.isclose(1.0, sum1(1))\n",
    "assert np.isclose(7.485470860550345, sum1(1000))\n",
    "assert np.isclose(10.644712286201385, sum1(23564))\n",
    "assert np.isclose(1.0, diff(0, 10))\n",
    "assert np.isclose(0.6688607232024465, diff(1, 11))\n",
    "assert np.isclose(0.1858865473624568, diff(10, 20))\n",
    "assert np.isclose(3.9856430361639994e-05, diff(23564, 23574))"
   ]
  },
  {
   "cell_type": "markdown",
   "id": "2f74a6a4",
   "metadata": {
    "deletable": false,
    "editable": false,
    "nbgrader": {
     "cell_type": "markdown",
     "checksum": "490f9660c0118223965b55161e64b8aa",
     "grade": false,
     "grade_id": "cell-596c6656ab03c366",
     "locked": true,
     "schema_version": 3,
     "solution": false,
     "task": false
    }
   },
   "source": [
    "# Exercise\n",
    "Write a function that computes the central derivative of a given function, $$ f'(x) \\simeq \\frac{f(x+h) - f(x-h)}{2h}.$$ Use, as a model, the function $sin(x)$.  Write another function , called `numdiff`, than computes the relative difference between the exact and the numerical derivative "
   ]
  },
  {
   "cell_type": "code",
   "execution_count": null,
   "id": "7ad5f410",
   "metadata": {
    "deletable": false,
    "nbgrader": {
     "cell_type": "code",
     "checksum": "cae12219e434fbadcaceb07494418a41",
     "grade": false,
     "grade_id": "cell-ac4d4f37c7341bad",
     "locked": false,
     "schema_version": 3,
     "solution": true,
     "task": false
    }
   },
   "outputs": [],
   "source": [
    "import numpy as np\n",
    "def f(x):\n",
    "    return np.sin(x)\n",
    "\n",
    "def centraldiff(x, h):\n",
    "    # YOUR CODE HERE\n",
    "    raise NotImplementedError()\n",
    "\n",
    "def numdiff(x, h):\n",
    "    # YOUR CODE HERE\n",
    "    raise NotImplementedError()\n",
    "\n",
    "x = 1.2478\n",
    "for hval in [0.5, 0.1, 0.05, 0.01, 0.005, 0.001, 0.0005, 0.0001, 0.00005, 0.00001, 1.0e-8, 1.0e-9, 1.0e-14, 1.0e-15]:\n",
    "    print(f\"assert np.isclose({numdiff(x, hval)}, numdiff({x}, {hval}))\")"
   ]
  },
  {
   "cell_type": "code",
   "execution_count": null,
   "id": "a80e68a3",
   "metadata": {
    "deletable": false,
    "editable": false,
    "nbgrader": {
     "cell_type": "code",
     "checksum": "f8e8a96ba4065aa1e324df3a75589d53",
     "grade": true,
     "grade_id": "cell-91b0fd2cf74990a5",
     "locked": true,
     "points": 0.5,
     "schema_version": 3,
     "solution": false,
     "task": false
    }
   },
   "outputs": [],
   "source": [
    "assert np.isclose(0.0411489227915941, numdiff(1.2478, 0.5))\n",
    "assert np.isclose(0.0016658335317168982, numdiff(1.2478, 0.1))\n",
    "assert np.isclose(4.166661485727197e-06, numdiff(1.2478, 0.005))\n",
    "assert np.isclose(1.6666681634802671e-07, numdiff(1.2478, 0.001))\n",
    "assert np.isclose(4.166687694873161e-08, numdiff(1.2478, 0.0005))\n",
    "assert np.isclose(2.1800006244632186e-11, numdiff(1.2478, 1e-05))\n",
    "assert np.isclose(1.2246484937250557e-08, numdiff(1.2478, 1e-08)) # NOTICE: ERRORS INCREASING\n",
    "assert np.isclose(4.021997401792987e-08, numdiff(1.2478, 1e-09))\n",
    "assert np.isclose(0.0031372791395899435, numdiff(1.2478, 1e-14))\n",
    "assert np.isclose(0.04932917985306329, numdiff(1.2478, 1e-15))\n",
    "### BEGIN HIDDEN TEST\n",
    "assert np.isclose(0.0004166145864309412, numdiff(1.2478, 0.05))\n",
    "assert np.isclose(1.6666583323776685e-05, numdiff(1.2478, 0.01))\n",
    "assert np.isclose(1.6674979175235194e-09, numdiff(1.2478, 0.0001))\n",
    "assert np.isclose(4.135495279555812e-10, numdiff(1.2478, 5e-05))\n",
    "### END HIDDEN TEST"
   ]
  },
  {
   "cell_type": "markdown",
   "id": "d11d5bca",
   "metadata": {
    "deletable": false,
    "editable": false,
    "nbgrader": {
     "cell_type": "markdown",
     "checksum": "c63e7998a7f6b92396e02ce141b2a1f0",
     "grade": false,
     "grade_id": "cell-1e63bdd8c1c02f59",
     "locked": true,
     "schema_version": 3,
     "solution": false,
     "task": false
    }
   },
   "source": [
    "# Exercise\n",
    "Write a function that receives a positive integer number and returns the sum of the prime numbers less or equal than the number. You should also define a function that checks if a given number is prime"
   ]
  },
  {
   "cell_type": "code",
   "execution_count": null,
   "id": "09607370",
   "metadata": {
    "deletable": false,
    "nbgrader": {
     "cell_type": "code",
     "checksum": "5e3dc7d27fc86eed91620656f8a4c4f5",
     "grade": false,
     "grade_id": "cell-cfaa7f286621ee36",
     "locked": false,
     "schema_version": 3,
     "solution": true,
     "task": false
    }
   },
   "outputs": [],
   "source": [
    "import numpy as np\n",
    "def sumprimeslessthan(n):\n",
    "    # YOUR CODE HERE\n",
    "    raise NotImplementedError()\n",
    "    \n",
    "def isprime(m):\n",
    "    # YOUR CODE HERE\n",
    "    raise NotImplementedError()\n",
    "    \n",
    "vals = [1, 2, 3, 4, 5, 9, 12, 123, 100011, 100019, 100267]\n",
    "for val in vals:\n",
    "    print(f\"assert {isprime(val)} == isprime({val})\")\n",
    "for val in vals:\n",
    "    print(f\"assert {sumprimeslessthan(val)} == sumprimeslessthan({val})\")"
   ]
  },
  {
   "cell_type": "code",
   "execution_count": null,
   "id": "1f563157",
   "metadata": {
    "deletable": false,
    "editable": false,
    "nbgrader": {
     "cell_type": "code",
     "checksum": "23f15ea5b3e067d5ebff24f5e772472f",
     "grade": true,
     "grade_id": "cell-611da4f66c6be786",
     "locked": true,
     "points": 0.5,
     "schema_version": 3,
     "solution": false,
     "task": false
    }
   },
   "outputs": [],
   "source": [
    "assert False == isprime(1)\n",
    "assert True == isprime(2)\n",
    "assert True == isprime(3)\n",
    "assert False == isprime(4)\n",
    "assert True == isprime(5)\n",
    "assert False == isprime(9)\n",
    "assert False == isprime(12)\n",
    "assert True == isprime(100267)\n",
    "assert 0 == sumprimeslessthan(1)\n",
    "assert 2 == sumprimeslessthan(2)\n",
    "assert 5 == sumprimeslessthan(3)\n",
    "assert 5 == sumprimeslessthan(4)\n",
    "assert 10 == sumprimeslessthan(5)\n",
    "assert 17 == sumprimeslessthan(9)\n",
    "assert 28 == sumprimeslessthan(12)\n",
    "assert 456299080 == sumprimeslessthan(100267)"
   ]
  }
 ],
 "metadata": {
  "kernelspec": {
   "display_name": "Python 3 (ipykernel)",
   "language": "python",
   "name": "python3"
  },
  "language_info": {
   "codemirror_mode": {
    "name": "ipython",
    "version": 3
   },
   "file_extension": ".py",
   "mimetype": "text/x-python",
   "name": "python",
   "nbconvert_exporter": "python",
   "pygments_lexer": "ipython3",
   "version": "3.9.13"
  },
  "toc": {
   "base_numbering": 1,
   "nav_menu": {},
   "number_sections": true,
   "sideBar": true,
   "skip_h1_title": false,
   "title_cell": "Table of Contents",
   "title_sidebar": "Contents",
   "toc_cell": false,
   "toc_position": {},
   "toc_section_display": true,
   "toc_window_display": false
  }
 },
 "nbformat": 4,
 "nbformat_minor": 5
}
