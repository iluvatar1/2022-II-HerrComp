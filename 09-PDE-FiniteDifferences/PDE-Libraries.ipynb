{
 "cells": [
  {
   "cell_type": "markdown",
   "id": "6bdb43a8-bbf2-4f7d-9ad4-c42fdd92de00",
   "metadata": {},
   "source": [
    "Before you turn this problem in, make sure everything runs as expected. First, **restart the kernel** (in the menubar, select Kernel$\\rightarrow$Restart) and then **run all cells** (in the menubar, select Cell$\\rightarrow$Run All).\n",
    "\n",
    "Make sure you fill in any place that says `YOUR CODE HERE` or \"YOUR ANSWER HERE\", as well as your name and collaborators below:"
   ]
  },
  {
   "cell_type": "code",
   "execution_count": null,
   "id": "cba1c46c-bbc6-446d-b610-8095fc85ffb0",
   "metadata": {},
   "outputs": [],
   "source": [
    "NAME = \"\"\n",
    "COLLABORATORS = \"NONE\""
   ]
  },
  {
   "cell_type": "markdown",
   "id": "b2b50c0e-df33-4cae-8dc1-6132d4978796",
   "metadata": {},
   "source": [
    "# Some libraries to solve PDE\n",
    "In this notebook we will learn how to use some external libraries to efficiently and easily solve PDE of several types.\n",
    "\n",
    "# Py-pde\n",
    "https://py-pde.readthedocs.io/en/latest/\n",
    "\n",
    "To install it, run"
   ]
  },
  {
   "cell_type": "code",
   "execution_count": null,
   "id": "d8d7e39a-22fc-4b3e-b1e2-63d65fe79fe6",
   "metadata": {},
   "outputs": [],
   "source": [
    "!pip install h5py pandas pyfftw tqdm #usefull deps\n",
    "!pip install py-pde"
   ]
  },
  {
   "cell_type": "markdown",
   "id": "02978470-575c-49de-b0b1-4da5f01fc6fb",
   "metadata": {},
   "source": [
    "Or, if you use conda, use (this will install all deps)"
   ]
  },
  {
   "cell_type": "code",
   "execution_count": null,
   "id": "6e7674ff-9d2e-46f3-b5ab-a68b5f079be9",
   "metadata": {},
   "outputs": [],
   "source": [
    "!conda install -c conda-forge py-pde"
   ]
  },
  {
   "cell_type": "markdown",
   "id": "d18e005f-a1f2-4d60-8d67-af0942e3894d",
   "metadata": {},
   "source": [
    "## Example: Laplace equation\n",
    "https://py-pde.readthedocs.io/en/latest/examples_gallery/laplace_eq_2d.html#sphx-glr-examples-gallery-laplace-eq-2d-py"
   ]
  },
  {
   "cell_type": "code",
   "execution_count": null,
   "id": "9cfe876c-270f-4123-99ef-0cc0982e83af",
   "metadata": {},
   "outputs": [],
   "source": [
    "import numpy as np\n",
    "\n",
    "from pde import CartesianGrid, solve_laplace_equation\n",
    "\n",
    "grid = CartesianGrid([[0, 2 * np.pi]] * 2, 64)\n",
    "bcs = [{\"value\": \"sin(y)\"}, {\"value\": \"sin(x)\"}]\n",
    "\n",
    "res = solve_laplace_equation(grid, bcs)\n",
    "res.plot()"
   ]
  },
  {
   "cell_type": "markdown",
   "id": "a1e80b2d-5905-4298-a862-9c3ff0e6e996",
   "metadata": {},
   "source": [
    "Checking info and possibilities:\n",
    "- https://py-pde.readthedocs.io/en/latest/packages/pde.grids.cartesian.html#pde.grids.cartesian.CartesianGrid\n",
    "- https://py-pde.readthedocs.io/en/latest/packages/pde.pdes.laplace.html#pde.pdes.laplace.solve_laplace_equation\n",
    "- https://py-pde.readthedocs.io/en/latest/packages/pde.grids.boundaries.html#documentation-boundaries"
   ]
  },
  {
   "cell_type": "code",
   "execution_count": null,
   "id": "b4cafec2-1d7c-4eb6-b6c9-fc24e0380899",
   "metadata": {},
   "outputs": [],
   "source": [
    "grid.plot()"
   ]
  },
  {
   "cell_type": "markdown",
   "id": "765a7027-ecfa-4553-b6af-bebd12dd1594",
   "metadata": {},
   "source": [
    "### Exercise: Same exercise as in class\n",
    "After understanding the functionality, reproduce the exercise we solved in class "
   ]
  },
  {
   "cell_type": "code",
   "execution_count": null,
   "id": "08cdd2d7-d728-43dc-bc14-9904b91edf54",
   "metadata": {
    "deletable": false,
    "nbgrader": {
     "cell_type": "code",
     "checksum": "fa0fa022d2a4f5d478f861a2863f865e",
     "grade": false,
     "grade_id": "cell-56641105eaa56325",
     "locked": false,
     "schema_version": 3,
     "solution": true,
     "task": false
    },
    "tags": []
   },
   "outputs": [],
   "source": [
    "import numpy as np\n",
    "\n",
    "from pde import CartesianGrid, solve_laplace_equation\n",
    "\n",
    "L = 2*np.pi\n",
    "N = 64\n",
    "grid = CartesianGrid([[0, L]] * 2, N)\n",
    "# YOUR CODE HERE\n",
    "raise NotImplementedError()\n",
    "\n",
    "res = solve_laplace_equation(grid, bcs)\n",
    "res.plot()"
   ]
  },
  {
   "cell_type": "markdown",
   "id": "2b8224f8-a6ba-42ae-8b0d-4c7209ca6b4f",
   "metadata": {},
   "source": [
    "**Questions**\n",
    "- Is the time the same as in your original implementation?\n",
    "- Is it possible to write the solution to a file? Look for in the documentation. \n",
    "\n",
    "Now create an animation. Check the examples and: https://py-pde.readthedocs.io/en/latest/packages/pde.visualization.movies.html"
   ]
  },
  {
   "cell_type": "markdown",
   "id": "2f230158-dc87-41af-a4a7-087503bfce70",
   "metadata": {
    "tags": []
   },
   "source": [
    "## Example: Diffusion equation\n",
    "https://py-pde.readthedocs.io/en/latest/examples_gallery/simple.html#sphx-glr-examples-gallery-simple-py"
   ]
  },
  {
   "cell_type": "code",
   "execution_count": null,
   "id": "640d9177-205f-4911-a3d0-a5d2f66da49c",
   "metadata": {},
   "outputs": [],
   "source": [
    "from pde import DiffusionPDE, ScalarField, UnitGrid\n",
    "\n",
    "grid = UnitGrid([64, 64])  # generate grid\n",
    "state = ScalarField.random_uniform(grid, 0.2, 0.3)  # generate initial condition\n",
    "\n",
    "eq = DiffusionPDE(diffusivity=0.1)  # define the pde\n",
    "result = eq.solve(state, t_range=10)\n",
    "result.plot()"
   ]
  },
  {
   "cell_type": "markdown",
   "id": "e9ac7d10-c34f-4b1d-aec2-236cef038ad1",
   "metadata": {},
   "source": [
    "## Example: Spherically symmetric\n",
    "https://py-pde.readthedocs.io/en/latest/examples_gallery/spherical_grid.html#sphx-glr-examples-gallery-spherical-grid-py"
   ]
  },
  {
   "cell_type": "code",
   "execution_count": null,
   "id": "909aa638-adf1-46b6-8644-3ee27b64fef9",
   "metadata": {},
   "outputs": [],
   "source": [
    "from pde import DiffusionPDE, ScalarField, SphericalSymGrid\n",
    "\n",
    "grid = SphericalSymGrid(radius=[1, 5], shape=128)  # generate grid\n",
    "state = ScalarField.random_uniform(grid)  # generate initial condition\n",
    "\n",
    "eq = DiffusionPDE(0.1)  # define the PDE\n",
    "result = eq.solve(state, t_range=0.1, dt=0.001)\n",
    "\n",
    "result.plot(kind=\"image\")"
   ]
  },
  {
   "cell_type": "markdown",
   "id": "ed95f59e-f643-4e83-89d5-8b5b51a27e54",
   "metadata": {},
   "source": [
    "## Example: movie\n",
    "https://github.com/zwicker-group/py-pde/tree/master/examples"
   ]
  },
  {
   "cell_type": "code",
   "execution_count": null,
   "id": "2d59262a-2b85-4a20-ab66-4b5a665a1be5",
   "metadata": {},
   "outputs": [],
   "source": [
    "\"\"\"\n",
    "Create a movie from a storage\n",
    "=============================\n",
    "\n",
    "This example shows how to create a movie from data stored during a simulation. Making\n",
    "movies requires that `ffmpeg` is installed in a standard location.\n",
    "\"\"\"\n",
    "\n",
    "from pde import DiffusionPDE, MemoryStorage, ScalarField, UnitGrid, movie_scalar\n",
    "\n",
    "grid = UnitGrid([16, 16])  # generate grid\n",
    "state = ScalarField.random_uniform(grid, 0.2, 0.3)  # generate initial condition\n",
    "\n",
    "storage = MemoryStorage()  # create storage\n",
    "tracker = storage.tracker(interval=0.010)  # create associated tracker\n",
    "storage.tracker?\n",
    "\n",
    "eq = DiffusionPDE()  # define the physics\n",
    "eq.solve(state, t_range=2, dt=0.005, tracker=tracker)\n",
    "\n",
    "# create movie from stored data\n",
    "movie_scalar(storage, \"diffusion.mov\")\n"
   ]
  },
  {
   "cell_type": "markdown",
   "id": "4e57340e-1fe4-47a0-b98e-4072d098b708",
   "metadata": {},
   "source": [
    "# Writing and reading data\n",
    "https://py-pde.readthedocs.io/en/latest/examples_gallery/trajectory_io.html#sphx-glr-examples-gallery-trajectory-io-py\n"
   ]
  },
  {
   "cell_type": "code",
   "execution_count": null,
   "id": "75383bf4-bb12-4c74-b0cd-906d2a194074",
   "metadata": {},
   "outputs": [],
   "source": [
    "from tempfile import NamedTemporaryFile\n",
    "\n",
    "import pde\n",
    "\n",
    "# define grid, state and pde\n",
    "grid = pde.UnitGrid([32])\n",
    "state = pde.FieldCollection(\n",
    "    [pde.ScalarField.random_uniform(grid), pde.VectorField.random_uniform(grid)]\n",
    ")\n",
    "eq = pde.PDE({\"s\": \"-0.1 * s\", \"v\": \"-v\"})\n",
    "\n",
    "# get a temporary file to write data to\n",
    "path = NamedTemporaryFile(suffix=\".hdf5\")\n",
    "print(path.name)\n",
    "\n",
    "# run a simulation and write the results\n",
    "writer = pde.FileStorage(path.name, write_mode=\"truncate\")\n",
    "eq.solve(state, t_range=32, dt=0.01, tracker=writer.tracker(1))\n",
    "\n",
    "# read the simulation back in again\n",
    "reader = pde.FileStorage(path.name, write_mode=\"read_only\")\n",
    "pde.plot_kymographs(reader)"
   ]
  },
  {
   "cell_type": "markdown",
   "id": "1f42e6fc-7572-4647-a0e8-f1879573df51",
   "metadata": {},
   "source": [
    "# Scikit finite diff\n",
    "https://scikit-fdiff.readthedocs.io/en/latest/\n",
    "\n",
    "Install:"
   ]
  },
  {
   "cell_type": "code",
   "execution_count": null,
   "id": "564572bf-1961-43d3-b99c-a965d912ba88",
   "metadata": {},
   "outputs": [],
   "source": [
    "!pip install scikit-fdiff\n",
    "#!pip install scikit-fdiff[interactive,numba]"
   ]
  },
  {
   "cell_type": "markdown",
   "id": "49dcd753-2993-44f3-9db7-99397076a4ce",
   "metadata": {},
   "source": [
    "Also install holoviews for a nice visualization"
   ]
  },
  {
   "cell_type": "code",
   "execution_count": null,
   "id": "658a8372-a87a-4c37-a17f-bb2374e79585",
   "metadata": {},
   "outputs": [],
   "source": [
    "#!conda install -c pyviz holoviews bokeh\n",
    "!pip install holoviews bokeh"
   ]
  },
  {
   "cell_type": "code",
   "execution_count": null,
   "id": "e02b51c3-b902-4f6b-95ef-a4e80b9403b3",
   "metadata": {},
   "outputs": [],
   "source": [
    "from skfdiff import Model, Simulation\n",
    "import pylab as pl\n",
    "import numpy as np\n",
    "from scipy.signal.windows import gaussian\n",
    "\n",
    "model = Model([\"-(dx((H + h) * u) + dy((H + h) * v))\",\n",
    "               \"-(u * dxu + v * dyu) - g * dxh + nu * (dxxu + dyyu)\",\n",
    "               \"-(u * dxv + v * dyv) - g * dyh + nu * (dxxv + dyyv)\"],\n",
    "               [\"h(x, y)\", \"u(x, y)\", \"v(x, y)\"],\n",
    "               parameters=[\"H(x, y)\", \"nu\", \"g\"],\n",
    "               boundary_conditions=\"periodic\")\n",
    "\n",
    "L = 10\n",
    "x = y = np.linspace(-L / 2, L / 2, 56)\n",
    "xx, yy = np.meshgrid(x, y, indexing=\"ij\")\n",
    "h = (gaussian(x.size, x.size // 20)[:, None] *\n",
    "     gaussian(y.size, y.size // 20)[None, :]) + 1\n",
    "h = np.roll(h, 12, axis=0)\n",
    "h = np.roll(h, 12, axis=1)\n",
    "H = np.zeros_like(h)\n",
    "u = np.zeros_like(h)\n",
    "v = np.zeros_like(h)\n",
    "initial_fields = model.Fields(x=x, y=y, h=h, u=u, v=v,\n",
    "                              H=H, g=9.81, nu=0)\n",
    "\n",
    "simulation = Simulation(model, initial_fields, dt=.1, tmax=1)\n",
    "container = simulation.attach_container()\n",
    "tmax, final_fields = simulation.run()"
   ]
  },
  {
   "cell_type": "code",
   "execution_count": null,
   "id": "fa5d3148-e1c9-4417-b7dd-516cc88ce267",
   "metadata": {},
   "outputs": [],
   "source": [
    "import holoviews as hv\n",
    "hv.notebook_extension(\"bokeh\")\n",
    "hv.Dataset(container.data.h).to(hv.Image, [\"x\", \"y\"])"
   ]
  },
  {
   "cell_type": "markdown",
   "id": "2db02315-3bae-44b1-a6dd-117a0cbbf9fc",
   "metadata": {},
   "source": [
    "# Simpy pde solve\n",
    "https://docs.sympy.org/latest/modules/solvers/pde.html"
   ]
  },
  {
   "cell_type": "markdown",
   "id": "85ec770c-a375-4971-83ae-cb7416d973c1",
   "metadata": {},
   "source": [
    "# Some Finite element libs\n",
    "- https://sfepy.org/doc-devel/index.html\n",
    "- https://fenicsproject.org/"
   ]
  }
 ],
 "metadata": {
  "kernelspec": {
   "display_name": "Python 3 (ipykernel)",
   "language": "python",
   "name": "python3"
  },
  "language_info": {
   "codemirror_mode": {
    "name": "ipython",
    "version": 3
   },
   "file_extension": ".py",
   "mimetype": "text/x-python",
   "name": "python",
   "nbconvert_exporter": "python",
   "pygments_lexer": "ipython3",
   "version": "3.10.6"
  }
 },
 "nbformat": 4,
 "nbformat_minor": 5
}
